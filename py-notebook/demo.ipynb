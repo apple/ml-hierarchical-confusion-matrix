{
 "cells": [
  {
   "cell_type": "markdown",
   "id": "6f87f5b6-a114-4f7f-bfee-a45ea8d67f61",
   "metadata": {},
   "source": [
    "# Neo Hierchical Confusion Matrix\n",
    "\n",
    "## Setup\n",
    "To use Neo in Jupyter Lab or Jupyter Notebook, install a local Jupyter extension for neo from the command line:\n",
    "\n",
    "1. In a terminal, navigate to the included jupyter extension folder:\n",
    "\n",
    "`\n",
    "cd neo-confusion-jupyter\n",
    "`\n",
    "\n",
    "2. Locally install the neo jupyter extension package to Python:\n",
    "\n",
    "`\n",
    "pip install -e .\n",
    "`\n",
    "\n",
    "3. Finally run these two commands to install the extension to your local Jupyter Lab and/or Jupyter notebook application\n",
    "\n",
    "`jupyter nbextension install --py --symlink --overwrite --sys-prefix neo_confusion_jupyter`\n",
    "\n",
    "`jupyter nbextension enable --py --sys-prefix neo_confusion_jupyter`\n",
    "\n",
    "## Getting Started"
   ]
  },
  {
   "cell_type": "code",
   "execution_count": 4,
   "id": "6fa578b4-e4f3-41f5-ae51-bf78043c7880",
   "metadata": {},
   "outputs": [
    {
     "data": {
      "application/vnd.jupyter.widget-view+json": {
       "model_id": "33371de9eb99446e87f82f7f79a7f746",
       "version_major": 2,
       "version_minor": 0
      },
      "text/plain": [
       "HierchicalConfusionMatrix(inputData='[{\"actual\": [\"root:a\"], \"observed\": [\"root:a\"], \"count\": 1}, {\"actual\": […"
      ]
     },
     "metadata": {},
     "output_type": "display_data"
    }
   ],
   "source": [
    "from neo_confusion_jupyter import HierchicalConfusionMatrix as neo \n",
    "neo() # Neo usage showing dummy data"
   ]
  },
  {
   "cell_type": "markdown",
   "id": "e70c7199-f5b4-4844-8c52-591f83f51a1a",
   "metadata": {},
   "source": [
    "## Using Neo with json on hierchical data"
   ]
  },
  {
   "cell_type": "code",
   "execution_count": 5,
   "id": "8e7fd6e9-b2e6-439f-8b12-e3a4aea79ed4",
   "metadata": {},
   "outputs": [
    {
     "data": {
      "application/vnd.jupyter.widget-view+json": {
       "model_id": "0199385f7f1e46d294aedc636d665664",
       "version_major": 2,
       "version_minor": 0
      },
      "text/plain": [
       "HierchicalConfusionMatrix(inputData='[{\"actual\": [\"fruit:citrus:lemon\", \"taste:sweet\", \"ripeness:ripe\"], \"obse…"
      ]
     },
     "metadata": {},
     "output_type": "display_data"
    }
   ],
   "source": [
    "from neo_confusion_jupyter import HierchicalConfusionMatrix as neo \n",
    "import json\n",
    "\n",
    "with open('fruit.json') as file:\n",
    "    data = json.load(file)\n",
    "    \n",
    "rootLabels = ['fruit', 'taste', 'ripeness']\n",
    "    \n",
    "neo(data['data']['values'], root = rootLabels)"
   ]
  },
  {
   "cell_type": "markdown",
   "id": "3122b4fe-3f73-4cf4-8b05-f30d905795cf",
   "metadata": {},
   "source": [
    "## Using Neo with scikit-learn + pandas on non-hierchical data"
   ]
  },
  {
   "cell_type": "code",
   "execution_count": 6,
   "id": "61d57347-9400-4fcd-86c8-174fe1d2de6c",
   "metadata": {},
   "outputs": [],
   "source": [
    "from sklearn import datasets\n",
    "from sklearn.svm import SVC\n",
    "from sklearn.model_selection import train_test_split\n",
    "\n",
    "# load classic iris dataset\n",
    "iris = datasets.load_iris()\n",
    "\n",
    "# split the dataset into test, training, and target\n",
    "X = iris.data\n",
    "y = iris.target\n",
    "X_train, X_test, y_train, y_test = train_test_split(X, y, random_state=0)\n",
    "\n",
    "\n",
    "# create a classifier and train it\n",
    "model = SVC(kernel='linear')\n",
    "y_pred = model.fit(X_train, y_train).predict(X_test)"
   ]
  },
  {
   "cell_type": "code",
   "execution_count": 7,
   "id": "0d901299-a578-4819-9a64-bb0e2480efb8",
   "metadata": {},
   "outputs": [
    {
     "data": {
      "application/vnd.jupyter.widget-view+json": {
       "model_id": "5b049964e00e4b28a167ae173bda53b9",
       "version_major": 2,
       "version_minor": 0
      },
      "text/plain": [
       "HierchicalConfusionMatrix(inputData='[{\"actual\": [\"root:setosa\"], \"observed\": [\"root:setosa\"], \"count\": 13}, {…"
      ]
     },
     "metadata": {},
     "output_type": "display_data"
    }
   ],
   "source": [
    "# Now run Neo to explore the results. Note that the iris dataset is *not* hierchical\n",
    "from neo_confusion_jupyter import HierchicalConfusionMatrix as neo \n",
    "\n",
    "# create list of expected labels\n",
    "labels = list(iris.target_names)\n",
    "\n",
    "neo({'true': y_test, 'predicted': y_pred, 'labels': labels})"
   ]
  },
  {
   "cell_type": "code",
   "execution_count": null,
   "id": "cbe3aa70-1f9f-4019-865c-deeae70f5e53",
   "metadata": {},
   "outputs": [],
   "source": []
  }
 ],
 "metadata": {
  "kernelspec": {
   "display_name": "Python 3",
   "language": "python",
   "name": "python3"
  },
  "language_info": {
   "codemirror_mode": {
    "name": "ipython",
    "version": 3
   },
   "file_extension": ".py",
   "mimetype": "text/x-python",
   "name": "python",
   "nbconvert_exporter": "python",
   "pygments_lexer": "ipython3",
   "version": "3.8.8"
  }
 },
 "nbformat": 4,
 "nbformat_minor": 5
}
